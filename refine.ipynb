{
  "cells": [
    {
      "cell_type": "code",
      "execution_count": 10,
      "metadata": {
        "id": "V2pBKJ5aI4bq"
      },
      "outputs": [],
      "source": [
        "# import numpy as np\n",
        "import pandas as pd\n",
        "from json import dump"
      ]
    },
    {
      "cell_type": "code",
      "execution_count": null,
      "metadata": {
        "colab": {
          "base_uri": "https://localhost:8080/"
        },
        "id": "FGOSr3afJLIg",
        "outputId": "9b08861c-8906-4ef8-c3e5-d2d38aefdd07"
      },
      "outputs": [
        {
          "name": "stdout",
          "output_type": "stream",
          "text": [
            "WARNING: combining -O with -r or -p will mean that all downloaded content\n",
            "will be placed in the single file you specified.\n",
            "\n",
            "--2021-12-01 18:50:07--  https://docs.google.com/uc?export=download&id=1NYa2gPUgiv8kdS0IinKp6dNMqxELiMGu\n",
            "Resolving docs.google.com (docs.google.com)... 142.250.73.206, 2607:f8b0:4004:82a::200e\n",
            "Connecting to docs.google.com (docs.google.com)|142.250.73.206|:443... connected.\n",
            "HTTP request sent, awaiting response... 302 Moved Temporarily\n",
            "Location: https://doc-0k-c8-docs.googleusercontent.com/docs/securesc/ha0ro937gcuc7l7deffksulhg5h7mbp1/gl5v1tjuicmaeco9j4fdgo8jvdqqmtgh/1638384600000/17182296012637223398/*/1NYa2gPUgiv8kdS0IinKp6dNMqxELiMGu?e=download [following]\n",
            "Warning: wildcards not supported in HTTP.\n",
            "--2021-12-01 18:50:08--  https://doc-0k-c8-docs.googleusercontent.com/docs/securesc/ha0ro937gcuc7l7deffksulhg5h7mbp1/gl5v1tjuicmaeco9j4fdgo8jvdqqmtgh/1638384600000/17182296012637223398/*/1NYa2gPUgiv8kdS0IinKp6dNMqxELiMGu?e=download\n",
            "Resolving doc-0k-c8-docs.googleusercontent.com (doc-0k-c8-docs.googleusercontent.com)... 172.217.13.65, 2607:f8b0:4004:808::2001\n",
            "Connecting to doc-0k-c8-docs.googleusercontent.com (doc-0k-c8-docs.googleusercontent.com)|172.217.13.65|:443... connected.\n",
            "HTTP request sent, awaiting response... 200 OK\n",
            "Length: 186267 (182K) [text/csv]\n",
            "Saving to: ‘data.csv’\n",
            "\n",
            "data.csv            100%[===================>] 181.90K  --.-KB/s    in 0.03s   \n",
            "\n",
            "2021-12-01 18:50:08 (6.49 MB/s) - ‘data.csv’ saved [186267/186267]\n",
            "\n",
            "FINISHED --2021-12-01 18:50:08--\n",
            "Total wall clock time: 1.2s\n",
            "Downloaded: 1 files, 182K in 0.03s (6.49 MB/s)\n"
          ]
        }
      ],
      "source": [
        "!wget --no-check-certificate -r \"https://docs.google.com/uc?export=download&id=1NYa2gPUgiv8kdS0IinKp6dNMqxELiMGu\" -O \"data.csv\""
      ]
    },
    {
      "cell_type": "code",
      "execution_count": 3,
      "metadata": {
        "id": "zobcvZ25I4bs"
      },
      "outputs": [],
      "source": [
        "dataR = pd.read_csv(\"data.csv\")"
      ]
    },
    {
      "cell_type": "markdown",
      "metadata": {
        "id": "nxsrBaGMI4bt"
      },
      "source": [
        "dataR.columns"
      ]
    },
    {
      "cell_type": "code",
      "execution_count": 4,
      "metadata": {
        "id": "pWPKfxVmI4bv"
      },
      "outputs": [],
      "source": [
        "data = dataR.drop(\"Timestamp\", axis=1)"
      ]
    },
    {
      "cell_type": "code",
      "execution_count": null,
      "metadata": {
        "id": "CFDFYEsVI4bv"
      },
      "outputs": [],
      "source": [
        "data"
      ]
    },
    {
      "cell_type": "code",
      "execution_count": null,
      "metadata": {
        "id": "JB6_CNDdI4bw"
      },
      "outputs": [],
      "source": [
        "data.keys()"
      ]
    },
    {
      "cell_type": "code",
      "execution_count": 5,
      "metadata": {
        "id": "zh78r8MrI4bx"
      },
      "outputs": [],
      "source": [
        "smry = {}\n",
        "for q in data.keys():\n",
        "    smry[q] = {}\n",
        "    l = 0\n",
        "    for i in range(312):\n",
        "        try: data[q][i] = smry[q][data[q][i]]\n",
        "        except KeyError:\n",
        "            smry[q][data[q][i]] = l\n",
        "            l += 1\n",
        "            data[q][i] = smry[q][data[q][i]]"
      ]
    },
    {
      "cell_type": "code",
      "execution_count": null,
      "metadata": {
        "colab": {
          "base_uri": "https://localhost:8080/"
        },
        "id": "Nv3p317-p0tU",
        "outputId": "e085b614-63cc-4592-bcbc-dbc800bce5db"
      },
      "outputs": [
        {
          "data": {
            "text/plain": [
              "12"
            ]
          },
          "execution_count": 31,
          "metadata": {},
          "output_type": "execute_result"
        }
      ],
      "source": [
        "max(data[\"What do you think is the most important stimulus to a scientist\"])"
      ]
    },
    {
      "cell_type": "code",
      "execution_count": 6,
      "metadata": {
        "id": "eIIPDgq-VLJJ"
      },
      "outputs": [],
      "source": [
        "q = \"What do you think is the most important stimulus to a scientist\"\n",
        "\n",
        "for i in range(312):\n",
        "    if data[q][i] in [0, 1]: pass\n",
        "    elif data[q][i] == 3: data[q][i] = 2\n",
        "    else: data[q][i] = 3\n",
        "\n",
        "smry[q]\n",
        "to_del = []\n",
        "for ans, ind in smry[q].items():\n",
        "    if ind in [0, 1]: pass\n",
        "    elif ind == 3: smry[q][ans] = 2\n",
        "    else: to_del.append(ans)\n",
        "for i in to_del: del smry[q][i]\n",
        "smry[q][\"Others\"] = 3"
      ]
    },
    {
      "cell_type": "code",
      "execution_count": 15,
      "metadata": {
        "id": "WQNEfyXgI4by"
      },
      "outputs": [
        {
          "data": {
            "text/plain": [
              "{'Whom do you consider an ideal scientist?': {'Someone who studies science and has a decent amount of knowledge on the subject': 0,\n",
              "  'Someone who helps the society to utilize science': 1,\n",
              "  'Someone whose only aim is development of science': 2,\n",
              "  'Someone who enjoys to work with science and takes it as a career': 3},\n",
              " 'What should be the most accurate metrics to judge the caliber of a scientist?': {'The amount of knowledge and wisdom which one has': 0,\n",
              "  'The impact which he/she is making on the society': 1,\n",
              "  'Number of good publications and patents': 2,\n",
              "  'His bank-balance /social status/fame': 3},\n",
              " 'What according to you should be the minimum educational qualification one should have to be considered a scientist?': {'10th pass': 0,\n",
              "  'Does Not matter': 1,\n",
              "  'Doctorate': 2,\n",
              "  'Post Doctorate': 3,\n",
              "  'Post Graduate': 4,\n",
              "  'Graduate': 5,\n",
              "  '12th pass': 6},\n",
              " 'What do you think should be the most developed trait which one should have to become a successful scientist?': {'Intelligence': 0,\n",
              "  'Innovative': 1,\n",
              "  'Foresight': 2,\n",
              "  'High motivation': 3,\n",
              "  'Hardworking': 4,\n",
              "  'Creative': 5},\n",
              " \"What is the first thought which you have when you hear the word 'Scientist'\": {'Some one who tries to find reason in everything and wants to uncover every secret of the universe.': 0,\n",
              "  'Someone who is busy to discover the next big thing and make this world a better place.': 1,\n",
              "  'A normal person with high motivation and extreme love for science.': 2,\n",
              "  'Some with odd hair, thick glasses wearing a lab coat and working in some secret lab.': 3,\n",
              "  'Someone crazy who leave everything ( Social life, friends , family) for the sake of science.': 4,\n",
              "  'Some highly educated folk.': 5},\n",
              " 'Why do you think people want to be a scientist?': {'Social Status and financial stability': 0,\n",
              "  'Desire to make great discoveries and to solve  global problems': 1,\n",
              "  'Love for the subject': 2,\n",
              "  'It sounds fancy and people think that you are very smart': 3,\n",
              "  'High chances of landing a job': 4,\n",
              "  'None of the above': 5},\n",
              " 'What should be a scientist’s first priority?': {'Development of the subject itself': 0,\n",
              "  'Working on what he is interested on': 1,\n",
              "  'Development of the society': 2,\n",
              "  'Developing ones knowledge': 3},\n",
              " 'Do you think that scientists should be allowed to conduct unethical experiments for the sake of science': {'I choose not to answer this question': 0,\n",
              "  'Yes, it will help science a lot and widen our research field.': 1,\n",
              "  'No, it will be unethical and disturb the basic fabric of the society': 2},\n",
              " 'Should a scientist prioritize science over social ethics and social norms for the sake of greater good': {'Yes': 0,\n",
              "  'No': 1},\n",
              " 'What do you think is the most important stimulus to a scientist': {'Curiosity and personal interest': 0,\n",
              "  'Social Need or Scarcity(Covid-19 Vaccine research for example)': 1,\n",
              "  'Dream of a better future(Colonizing Mars for example)': 2,\n",
              "  'Others': 3},\n",
              " 'How  do scientists help common people?': {'They improve education and adds to the knowledge on various aspects': 0,\n",
              "  'They address issues on health, defense, climate  etc through their discoveries': 1,\n",
              "  'They answering the great mysteries of the universe': 2,\n",
              "  'They develop new technologies and gadgets to make our life easy': 3},\n",
              " 'Are scientists more biased towards theoretical aspects of science rather than the practical side of it.': {'Yes': 0,\n",
              "  'No': 1},\n",
              " 'Do you think that scientists are slowly getting replaced by engineers and doctors as they are more focused towards the theoretical aspect of science. ': {'Yes, indeed they are slowly getting less important to the society': 0,\n",
              "  'Scientist can never get replaced by the professionals(engineers/doctors) .': 1}}"
            ]
          },
          "execution_count": 15,
          "metadata": {},
          "output_type": "execute_result"
        }
      ],
      "source": [
        "smry"
      ]
    },
    {
      "cell_type": "code",
      "execution_count": 13,
      "metadata": {
        "id": "hNlROZ3CI4bz"
      },
      "outputs": [
        {
          "ename": "TypeError",
          "evalue": "Object of type TextIOWrapper is not JSON serializable",
          "output_type": "error",
          "traceback": [
            "\u001b[1;31m---------------------------------------------------------------------------\u001b[0m",
            "\u001b[1;31mTypeError\u001b[0m                                 Traceback (most recent call last)",
            "\u001b[1;32m~\\AppData\\Local\\Temp/ipykernel_9700/3763846108.py\u001b[0m in \u001b[0;36m<module>\u001b[1;34m\u001b[0m\n\u001b[0;32m      1\u001b[0m \u001b[0msmry\u001b[0m\u001b[1;33m\u001b[0m\u001b[1;33m\u001b[0m\u001b[0m\n\u001b[0;32m      2\u001b[0m \u001b[1;32mwith\u001b[0m \u001b[0mopen\u001b[0m\u001b[1;33m(\u001b[0m\u001b[1;34m\"summary.json\"\u001b[0m\u001b[1;33m,\u001b[0m \u001b[1;34m\"w\"\u001b[0m\u001b[1;33m)\u001b[0m \u001b[1;32mas\u001b[0m \u001b[0mf\u001b[0m\u001b[1;33m:\u001b[0m\u001b[1;33m\u001b[0m\u001b[1;33m\u001b[0m\u001b[0m\n\u001b[1;32m----> 3\u001b[1;33m     \u001b[0mdump\u001b[0m\u001b[1;33m(\u001b[0m\u001b[0mf\u001b[0m\u001b[1;33m,\u001b[0m \u001b[0mdict\u001b[0m\u001b[1;33m(\u001b[0m\u001b[0msmry\u001b[0m\u001b[1;33m)\u001b[0m\u001b[1;33m)\u001b[0m\u001b[1;33m\u001b[0m\u001b[1;33m\u001b[0m\u001b[0m\n\u001b[0m",
            "\u001b[1;32mC:\\Program Files\\WindowsApps\\PythonSoftwareFoundation.Python.3.7_3.7.2544.0_x64__qbz5n2kfra8p0\\lib\\json\\__init__.py\u001b[0m in \u001b[0;36mdump\u001b[1;34m(obj, fp, skipkeys, ensure_ascii, check_circular, allow_nan, cls, indent, separators, default, sort_keys, **kw)\u001b[0m\n\u001b[0;32m    177\u001b[0m     \u001b[1;31m# could accelerate with writelines in some versions of Python, at\u001b[0m\u001b[1;33m\u001b[0m\u001b[1;33m\u001b[0m\u001b[1;33m\u001b[0m\u001b[0m\n\u001b[0;32m    178\u001b[0m     \u001b[1;31m# a debuggability cost\u001b[0m\u001b[1;33m\u001b[0m\u001b[1;33m\u001b[0m\u001b[1;33m\u001b[0m\u001b[0m\n\u001b[1;32m--> 179\u001b[1;33m     \u001b[1;32mfor\u001b[0m \u001b[0mchunk\u001b[0m \u001b[1;32min\u001b[0m \u001b[0miterable\u001b[0m\u001b[1;33m:\u001b[0m\u001b[1;33m\u001b[0m\u001b[1;33m\u001b[0m\u001b[0m\n\u001b[0m\u001b[0;32m    180\u001b[0m         \u001b[0mfp\u001b[0m\u001b[1;33m.\u001b[0m\u001b[0mwrite\u001b[0m\u001b[1;33m(\u001b[0m\u001b[0mchunk\u001b[0m\u001b[1;33m)\u001b[0m\u001b[1;33m\u001b[0m\u001b[1;33m\u001b[0m\u001b[0m\n\u001b[0;32m    181\u001b[0m \u001b[1;33m\u001b[0m\u001b[0m\n",
            "\u001b[1;32mC:\\Program Files\\WindowsApps\\PythonSoftwareFoundation.Python.3.7_3.7.2544.0_x64__qbz5n2kfra8p0\\lib\\json\\encoder.py\u001b[0m in \u001b[0;36m_iterencode\u001b[1;34m(o, _current_indent_level)\u001b[0m\n\u001b[0;32m    436\u001b[0m                     \u001b[1;32mraise\u001b[0m \u001b[0mValueError\u001b[0m\u001b[1;33m(\u001b[0m\u001b[1;34m\"Circular reference detected\"\u001b[0m\u001b[1;33m)\u001b[0m\u001b[1;33m\u001b[0m\u001b[1;33m\u001b[0m\u001b[0m\n\u001b[0;32m    437\u001b[0m                 \u001b[0mmarkers\u001b[0m\u001b[1;33m[\u001b[0m\u001b[0mmarkerid\u001b[0m\u001b[1;33m]\u001b[0m \u001b[1;33m=\u001b[0m \u001b[0mo\u001b[0m\u001b[1;33m\u001b[0m\u001b[1;33m\u001b[0m\u001b[0m\n\u001b[1;32m--> 438\u001b[1;33m             \u001b[0mo\u001b[0m \u001b[1;33m=\u001b[0m \u001b[0m_default\u001b[0m\u001b[1;33m(\u001b[0m\u001b[0mo\u001b[0m\u001b[1;33m)\u001b[0m\u001b[1;33m\u001b[0m\u001b[1;33m\u001b[0m\u001b[0m\n\u001b[0m\u001b[0;32m    439\u001b[0m             \u001b[1;32myield\u001b[0m \u001b[1;32mfrom\u001b[0m \u001b[0m_iterencode\u001b[0m\u001b[1;33m(\u001b[0m\u001b[0mo\u001b[0m\u001b[1;33m,\u001b[0m \u001b[0m_current_indent_level\u001b[0m\u001b[1;33m)\u001b[0m\u001b[1;33m\u001b[0m\u001b[1;33m\u001b[0m\u001b[0m\n\u001b[0;32m    440\u001b[0m             \u001b[1;32mif\u001b[0m \u001b[0mmarkers\u001b[0m \u001b[1;32mis\u001b[0m \u001b[1;32mnot\u001b[0m \u001b[1;32mNone\u001b[0m\u001b[1;33m:\u001b[0m\u001b[1;33m\u001b[0m\u001b[1;33m\u001b[0m\u001b[0m\n",
            "\u001b[1;32mC:\\Program Files\\WindowsApps\\PythonSoftwareFoundation.Python.3.7_3.7.2544.0_x64__qbz5n2kfra8p0\\lib\\json\\encoder.py\u001b[0m in \u001b[0;36mdefault\u001b[1;34m(self, o)\u001b[0m\n\u001b[0;32m    177\u001b[0m \u001b[1;33m\u001b[0m\u001b[0m\n\u001b[0;32m    178\u001b[0m         \"\"\"\n\u001b[1;32m--> 179\u001b[1;33m         raise TypeError(f'Object of type {o.__class__.__name__} '\n\u001b[0m\u001b[0;32m    180\u001b[0m                         f'is not JSON serializable')\n\u001b[0;32m    181\u001b[0m \u001b[1;33m\u001b[0m\u001b[0m\n",
            "\u001b[1;31mTypeError\u001b[0m: Object of type TextIOWrapper is not JSON serializable"
          ]
        }
      ],
      "source": [
        "smry\n",
        "with open(\"summary.json\", \"w\") as f:\n",
        "    dump(f, dict(smry))"
      ]
    },
    {
      "cell_type": "code",
      "execution_count": null,
      "metadata": {
        "colab": {
          "base_uri": "https://localhost:8080/"
        },
        "id": "Ufl62sE7I4bz",
        "outputId": "ae41dc59-af96-46bf-af8b-c42bc9f4d163"
      },
      "outputs": [
        {
          "data": {
            "text/plain": [
              "dict_keys(['Whom do you consider an ideal scientist?', 'What should be the most accurate metrics to judge the caliber of a scientist?', 'What according to you should be the minimum educational qualification one should have to be considered a scientist?', 'What do you think should be the most developed trait which one should have to become a successful scientist?', \"What is the first thought which you have when you hear the word 'Scientist'\", 'Why do you think people want to be a scientist?', 'What should be a scientist’s first priority?', 'Do you think that scientists should be allowed to conduct unethical experiments for the sake of science', 'Should a scientist prioritize science over social ethics and social norms for the sake of greater good', 'What do you think is the most important stimulus to a scientist', 'How  do scientists help common people?', 'Are scientists more biased towards theoretical aspects of science rather than the practical side of it.', 'Do you think that scientists are slowly getting replaced by engineers and doctors as they are more focused towards the theoretical aspect of science. '])"
            ]
          },
          "execution_count": 13,
          "metadata": {},
          "output_type": "execute_result"
        }
      ],
      "source": [
        "smry.keys()"
      ]
    },
    {
      "cell_type": "code",
      "execution_count": null,
      "metadata": {
        "colab": {
          "base_uri": "https://localhost:8080/"
        },
        "id": "V4sO0NGZI4b0",
        "outputId": "a76f7ea7-b620-4492-fe55-5d19e39d19fa"
      },
      "outputs": [
        {
          "name": "stdout",
          "output_type": "stream",
          "text": [
            "Whom do you consider an ideal scientist?\n",
            "\t 0 Someone who studies science and has a decent amount of knowledge on the subject\n",
            "\t 1 Someone who helps the society to utilize science\n",
            "\t 2 Someone whose only aim is development of science\n",
            "\t 3 Someone who enjoys to work with science and takes it as a career\n",
            "\n",
            "What should be the most accurate metrics to judge the caliber of a scientist?\n",
            "\t 0 The amount of knowledge and wisdom which one has\n",
            "\t 1 The impact which he/she is making on the society\n",
            "\t 2 Number of good publications and patents\n",
            "\t 3 His bank-balance /social status/fame\n",
            "\n",
            "What according to you should be the minimum educational qualification one should have to be considered a scientist?\n",
            "\t 0 10th pass\n",
            "\t 1 Does Not matter\n",
            "\t 2 Doctorate\n",
            "\t 3 Post Doctorate\n",
            "\t 4 Post Graduate\n",
            "\t 5 Graduate\n",
            "\t 6 12th pass\n",
            "\n",
            "What do you think should be the most developed trait which one should have to become a successful scientist?\n",
            "\t 0 Intelligence\n",
            "\t 1 Innovative\n",
            "\t 2 Foresight\n",
            "\t 3 High motivation\n",
            "\t 4 Hardworking\n",
            "\t 5 Creative\n",
            "\n",
            "What is the first thought which you have when you hear the word 'Scientist'\n",
            "\t 0 Some one who tries to find reason in everything and wants to uncover every secret of the universe.\n",
            "\t 1 Someone who is busy to discover the next big thing and make this world a better place.\n",
            "\t 2 A normal person with high motivation and extreme love for science.\n",
            "\t 3 Some with odd hair, thick glasses wearing a lab coat and working in some secret lab.\n",
            "\t 4 Someone crazy who leave everything ( Social life, friends , family) for the sake of science.\n",
            "\t 5 Some highly educated folk.\n",
            "\n",
            "Why do you think people want to be a scientist?\n",
            "\t 0 Social Status and financial stability\n",
            "\t 1 Desire to make great discoveries and to solve  global problems\n",
            "\t 2 Love for the subject\n",
            "\t 3 It sounds fancy and people think that you are very smart\n",
            "\t 4 High chances of landing a job\n",
            "\t 5 None of the above\n",
            "\n",
            "What should be a scientist’s first priority?\n",
            "\t 0 Development of the subject itself\n",
            "\t 1 Working on what he is interested on\n",
            "\t 2 Development of the society\n",
            "\t 3 Developing ones knowledge\n",
            "\n",
            "Do you think that scientists should be allowed to conduct unethical experiments for the sake of science\n",
            "\t 0 I choose not to answer this question\n",
            "\t 1 Yes, it will help science a lot and widen our research field.\n",
            "\t 2 No, it will be unethical and disturb the basic fabric of the society\n",
            "\n",
            "Should a scientist prioritize science over social ethics and social norms for the sake of greater good\n",
            "\t 0 Yes\n",
            "\t 1 No\n",
            "\n",
            "What do you think is the most important stimulus to a scientist\n",
            "\t 0 Curiosity and personal interest\n",
            "\t 1 Social Need or Scarcity(Covid-19 Vaccine research for example)\n",
            "\t 2 Dream of a better future(Colonizing Mars for example)\n",
            "\t 3 others\n",
            "\n",
            "How  do scientists help common people?\n",
            "\t 0 They improve education and adds to the knowledge on various aspects\n",
            "\t 1 They address issues on health, defense, climate  etc through their discoveries\n",
            "\t 2 They answering the great mysteries of the universe\n",
            "\t 3 They develop new technologies and gadgets to make our life easy\n",
            "\n",
            "Are scientists more biased towards theoretical aspects of science rather than the practical side of it.\n",
            "\t 0 Yes\n",
            "\t 1 No\n",
            "\n",
            "Do you think that scientists are slowly getting replaced by engineers and doctors as they are more focused towards the theoretical aspect of science. \n",
            "\t 0 Yes, indeed they are slowly getting less important to the society\n",
            "\t 1 Scientist can never get replaced by the professionals(engineers/doctors) .\n",
            "\n"
          ]
        }
      ],
      "source": [
        "for q in smry.keys():\n",
        "    print(q)\n",
        "    for key, value in smry[q].items():\n",
        "        print(\"\\t\", value, key)\n",
        "    print()"
      ]
    },
    {
      "cell_type": "code",
      "execution_count": null,
      "metadata": {
        "colab": {
          "base_uri": "https://localhost:8080/",
          "height": 438
        },
        "id": "lN0pBkd6I4b1",
        "outputId": "6995a498-5e46-4e89-867c-33f1fbf0bb6a"
      },
      "outputs": [
        {
          "data": {
            "text/html": [
              "<div>\n",
              "<style scoped>\n",
              "    .dataframe tbody tr th:only-of-type {\n",
              "        vertical-align: middle;\n",
              "    }\n",
              "\n",
              "    .dataframe tbody tr th {\n",
              "        vertical-align: top;\n",
              "    }\n",
              "\n",
              "    .dataframe thead th {\n",
              "        text-align: right;\n",
              "    }\n",
              "</style>\n",
              "<table border=\"1\" class=\"dataframe\">\n",
              "  <thead>\n",
              "    <tr style=\"text-align: right;\">\n",
              "      <th></th>\n",
              "      <th>Whom do you consider an ideal scientist?</th>\n",
              "      <th>What should be the most accurate metrics to judge the caliber of a scientist?</th>\n",
              "      <th>What according to you should be the minimum educational qualification one should have to be considered a scientist?</th>\n",
              "      <th>What do you think should be the most developed trait which one should have to become a successful scientist?</th>\n",
              "      <th>What is the first thought which you have when you hear the word 'Scientist'</th>\n",
              "      <th>Why do you think people want to be a scientist?</th>\n",
              "      <th>What should be a scientist’s first priority?</th>\n",
              "      <th>Do you think that scientists should be allowed to conduct unethical experiments for the sake of science</th>\n",
              "      <th>Should a scientist prioritize science over social ethics and social norms for the sake of greater good</th>\n",
              "      <th>What do you think is the most important stimulus to a scientist</th>\n",
              "      <th>How  do scientists help common people?</th>\n",
              "      <th>Are scientists more biased towards theoretical aspects of science rather than the practical side of it.</th>\n",
              "      <th>Do you think that scientists are slowly getting replaced by engineers and doctors as they are more focused towards the theoretical aspect of science.</th>\n",
              "    </tr>\n",
              "  </thead>\n",
              "  <tbody>\n",
              "    <tr>\n",
              "      <th>count</th>\n",
              "      <td>312</td>\n",
              "      <td>312</td>\n",
              "      <td>312</td>\n",
              "      <td>312</td>\n",
              "      <td>312</td>\n",
              "      <td>312</td>\n",
              "      <td>312</td>\n",
              "      <td>312</td>\n",
              "      <td>312</td>\n",
              "      <td>312</td>\n",
              "      <td>312</td>\n",
              "      <td>312</td>\n",
              "      <td>312</td>\n",
              "    </tr>\n",
              "    <tr>\n",
              "      <th>unique</th>\n",
              "      <td>4</td>\n",
              "      <td>4</td>\n",
              "      <td>7</td>\n",
              "      <td>6</td>\n",
              "      <td>6</td>\n",
              "      <td>6</td>\n",
              "      <td>4</td>\n",
              "      <td>3</td>\n",
              "      <td>2</td>\n",
              "      <td>13</td>\n",
              "      <td>4</td>\n",
              "      <td>2</td>\n",
              "      <td>2</td>\n",
              "    </tr>\n",
              "    <tr>\n",
              "      <th>top</th>\n",
              "      <td>1</td>\n",
              "      <td>1</td>\n",
              "      <td>1</td>\n",
              "      <td>1</td>\n",
              "      <td>0</td>\n",
              "      <td>2</td>\n",
              "      <td>1</td>\n",
              "      <td>2</td>\n",
              "      <td>0</td>\n",
              "      <td>0</td>\n",
              "      <td>1</td>\n",
              "      <td>1</td>\n",
              "      <td>1</td>\n",
              "    </tr>\n",
              "    <tr>\n",
              "      <th>freq</th>\n",
              "      <td>119</td>\n",
              "      <td>161</td>\n",
              "      <td>189</td>\n",
              "      <td>99</td>\n",
              "      <td>138</td>\n",
              "      <td>148</td>\n",
              "      <td>129</td>\n",
              "      <td>134</td>\n",
              "      <td>165</td>\n",
              "      <td>189</td>\n",
              "      <td>123</td>\n",
              "      <td>210</td>\n",
              "      <td>246</td>\n",
              "    </tr>\n",
              "  </tbody>\n",
              "</table>\n",
              "</div>"
            ],
            "text/plain": [
              "        Whom do you consider an ideal scientist?  ...  Do you think that scientists are slowly getting replaced by engineers and doctors as they are more focused towards the theoretical aspect of science. \n",
              "count                                        312  ...                                                312                                                                                                     \n",
              "unique                                         4  ...                                                  2                                                                                                     \n",
              "top                                            1  ...                                                  1                                                                                                     \n",
              "freq                                         119  ...                                                246                                                                                                     \n",
              "\n",
              "[4 rows x 13 columns]"
            ]
          },
          "execution_count": 15,
          "metadata": {},
          "output_type": "execute_result"
        }
      ],
      "source": [
        "data.describe()"
      ]
    },
    {
      "cell_type": "code",
      "execution_count": null,
      "metadata": {
        "id": "aF3nlX8cI4b1"
      },
      "outputs": [],
      "source": [
        "data.to_csv(\"refined.csv\", index = False)"
      ]
    },
    {
      "cell_type": "markdown",
      "metadata": {
        "id": "TabtyS03Mg5S"
      },
      "source": [
        "```python\n",
        "import matplotlib.pyplot as plt\n",
        "\n",
        "fig, axes = plt.subplots(len(X_train.columns)//3, 3, figsize=(12, 48))\n",
        "\n",
        "i = 0\n",
        "for triaxis in axes:\n",
        "    for axis in triaxis:\n",
        "        X_train.hist(column = X_train.columns[i], bins = 100, ax=axis)\n",
        "        i = i+1\n",
        "```"
      ]
    },
    {
      "cell_type": "markdown",
      "metadata": {
        "id": "9wJ9LJYcOIa3"
      },
      "source": [
        "\"What do you think is the most important stimulus to a scientist\""
      ]
    },
    {
      "cell_type": "code",
      "execution_count": null,
      "metadata": {
        "colab": {
          "base_uri": "https://localhost:8080/",
          "height": 334
        },
        "id": "_XWNuL4AMmEE",
        "outputId": "87ebcf5b-17fb-4114-c55e-3e57a18fa99a"
      },
      "outputs": [
        {
          "data": {
            "text/plain": [
              "(array([189.,   0.,   0.,  68.,   0.,   0.,  45.,   0.,   0.,  10.]),\n",
              " array([0.0, 0.3, 0.6, 0.8999999999999999, 1.2, 1.5, 1.7999999999999998,\n",
              "        2.1, 2.4, 2.6999999999999997, 3.0], dtype=object),\n",
              " <a list of 10 Patch objects>)"
            ]
          },
          "execution_count": 34,
          "metadata": {},
          "output_type": "execute_result"
        },
        {
          "data": {
            "image/png": "[encoded data removed]",
            "text/plain": [
              "<Figure size 432x288 with 1 Axes>"
            ]
          },
          "metadata": {
            "needs_background": "light"
          },
          "output_type": "display_data"
        }
      ],
      "source": [
        "import matplotlib.pyplot as plt\n",
        "plt.hist(data[\"What do you think is the most important stimulus to a scientist\"])"
      ]
    },
    {
      "cell_type": "code",
      "execution_count": null,
      "metadata": {
        "id": "NaGeh4rlNgL4"
      },
      "outputs": [],
      "source": [
        "x = list(data[\"What do you think is the most important stimulus to a scientist\"])"
      ]
    },
    {
      "cell_type": "code",
      "execution_count": null,
      "metadata": {
        "colab": {
          "base_uri": "https://localhost:8080/"
        },
        "id": "AFOCA2SyOggi",
        "outputId": "ca999738-dfb1-40e0-8481-ecd185faa832"
      },
      "outputs": [
        {
          "name": "stdout",
          "output_type": "stream",
          "text": [
            "Whom do you consider an ideal scientist?\n",
            "0: 31\n",
            "1: 119\n",
            "2: 48\n",
            "3: 114\n",
            "\n",
            "\n",
            "What should be the most accurate metrics to judge the caliber of a scientist?\n",
            "0: 109\n",
            "1: 161\n",
            "2: 40\n",
            "3: 2\n",
            "\n",
            "\n",
            "What according to you should be the minimum educational qualification one should have to be considered a scientist?\n",
            "0: 6\n",
            "1: 189\n",
            "2: 51\n",
            "3: 17\n",
            "4: 30\n",
            "5: 17\n",
            "6: 2\n",
            "\n",
            "\n",
            "What do you think should be the most developed trait which one should have to become a successful scientist?\n",
            "0: 16\n",
            "1: 99\n",
            "2: 45\n",
            "3: 51\n",
            "4: 33\n",
            "5: 68\n",
            "\n",
            "\n",
            "What is the first thought which you have when you hear the word 'Scientist'\n",
            "0: 138\n",
            "1: 39\n",
            "2: 101\n",
            "3: 14\n",
            "4: 10\n",
            "5: 10\n",
            "\n",
            "\n",
            "Why do you think people want to be a scientist?\n",
            "0: 7\n",
            "1: 118\n",
            "2: 148\n",
            "3: 19\n",
            "4: 3\n",
            "5: 17\n",
            "\n",
            "\n",
            "What should be a scientist’s first priority?\n",
            "0: 58\n",
            "1: 129\n",
            "2: 80\n",
            "3: 45\n",
            "\n",
            "\n",
            "Do you think that scientists should be allowed to conduct unethical experiments for the sake of science\n",
            "0: 121\n",
            "1: 57\n",
            "2: 134\n",
            "\n",
            "\n",
            "Should a scientist prioritize science over social ethics and social norms for the sake of greater good\n",
            "0: 165\n",
            "1: 147\n",
            "\n",
            "\n",
            "What do you think is the most important stimulus to a scientist\n",
            "0: 189\n",
            "1: 68\n",
            "2: 45\n",
            "3: 10\n",
            "\n",
            "\n",
            "How  do scientists help common people?\n",
            "0: 83\n",
            "1: 123\n",
            "2: 51\n",
            "3: 55\n",
            "\n",
            "\n",
            "Are scientists more biased towards theoretical aspects of science rather than the practical side of it.\n",
            "0: 102\n",
            "1: 210\n",
            "\n",
            "\n",
            "Do you think that scientists are slowly getting replaced by engineers and doctors as they are more focused towards the theoretical aspect of science. \n",
            "0: 66\n",
            "1: 246\n",
            "\n",
            "\n"
          ]
        }
      ],
      "source": [
        "for q in data.keys():\n",
        "    x = list(data[q])\n",
        "    print(q)\n",
        "    i = 0\n",
        "    while x.count(i)>0:\n",
        "        print(f\"{i}: {x.count(i)}\")\n",
        "        i += 1\n",
        "    print(\"\\n\")"
      ]
    },
    {
      "cell_type": "code",
      "execution_count": null,
      "metadata": {
        "id": "FCo5rXLBtPqK"
      },
      "outputs": [],
      "source": []
    }
  ],
  "metadata": {
    "colab": {
      "name": "ba.ipynb",
      "provenance": []
    },
    "interpreter": {
      "hash": "947de509e5e6935f3d255c266e9db741493205e2870f1255050acb2cc0814641"
    },
    "kernelspec": {
      "display_name": "Python 3 (ipykernel)",
      "language": "python",
      "name": "python3"
    },
    "language_info": {
      "codemirror_mode": {
        "name": "ipython",
        "version": 3
      },
      "file_extension": ".py",
      "mimetype": "text/x-python",
      "name": "python",
      "nbconvert_exporter": "python",
      "pygments_lexer": "ipython3",
      "version": "3.7.9"
    }
  },
  "nbformat": 4,
  "nbformat_minor": 0
}
